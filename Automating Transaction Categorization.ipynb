{
 "cells": [
  {
   "cell_type": "code",
   "execution_count": 49,
   "metadata": {},
   "outputs": [
    {
     "name": "stderr",
     "output_type": "stream",
     "text": [
      "[nltk_data] Downloading package punkt to /Users/theflow/nltk_data...\n",
      "[nltk_data]   Package punkt is already up-to-date!\n",
      "[nltk_data] Downloading package punkt_tab to\n",
      "[nltk_data]     /Users/theflow/nltk_data...\n",
      "[nltk_data]   Package punkt_tab is already up-to-date!\n"
     ]
    },
    {
     "data": {
      "text/plain": [
       "True"
      ]
     },
     "execution_count": 49,
     "metadata": {},
     "output_type": "execute_result"
    }
   ],
   "source": [
    "import pandas as pd\n",
    "import numpy as np\n",
    "from sklearn.ensemble import RandomForestClassifier\n",
    "from sklearn.preprocessing import LabelEncoder, StandardScaler\n",
    "from sklearn.feature_extraction import FeatureHasher\n",
    "from sklearn.model_selection import train_test_split, KFold, cross_val_score, RepeatedStratifiedKFold\n",
    "from sklearn.metrics import f1_score\n",
    "from sklearn.neighbors import KNeighborsClassifier\n",
    "from gensim.models import Word2Vec\n",
    "from arrow import now\n",
    "import hashlib, nltk, struct, pickle\n",
    "from random import choice, choices, randint\n",
    "from datetime import datetime, timedelta\n",
    "from faker import Faker\n",
    "from umap import UMAP\n",
    "import plotly.express as px\n",
    "from xgboost import XGBClassifier\n",
    "import matplotlib.pyplot as plt\n",
    "\n",
    "nltk.download('punkt')\n",
    "nltk.download('punkt_tab')"
   ]
  },
  {
   "cell_type": "code",
   "execution_count": 50,
   "metadata": {},
   "outputs": [
    {
     "data": {
      "text/html": [
       "<div>\n",
       "<style scoped>\n",
       "    .dataframe tbody tr th:only-of-type {\n",
       "        vertical-align: middle;\n",
       "    }\n",
       "\n",
       "    .dataframe tbody tr th {\n",
       "        vertical-align: top;\n",
       "    }\n",
       "\n",
       "    .dataframe thead th {\n",
       "        text-align: right;\n",
       "    }\n",
       "</style>\n",
       "<table border=\"1\" class=\"dataframe\">\n",
       "  <thead>\n",
       "    <tr style=\"text-align: right;\">\n",
       "      <th></th>\n",
       "      <th>Invoice date</th>\n",
       "      <th>Supplier name</th>\n",
       "      <th>Invoice number</th>\n",
       "      <th>Amount net</th>\n",
       "      <th>Amount gross</th>\n",
       "      <th>Tax rate</th>\n",
       "      <th>Purchased items</th>\n",
       "      <th>IBAN</th>\n",
       "      <th>Category</th>\n",
       "    </tr>\n",
       "  </thead>\n",
       "  <tbody>\n",
       "    <tr>\n",
       "      <th>0</th>\n",
       "      <td>2024-10-13 11:37:28.020195</td>\n",
       "      <td>Cruz LLC</td>\n",
       "      <td>4748</td>\n",
       "      <td>725.34</td>\n",
       "      <td>783.37</td>\n",
       "      <td>0.08</td>\n",
       "      <td>Visa fees, Flight tickets</td>\n",
       "      <td>GB62XPLQ45681913465736</td>\n",
       "      <td>Travel expenses</td>\n",
       "    </tr>\n",
       "    <tr>\n",
       "      <th>1</th>\n",
       "      <td>2024-09-30 11:37:28.020210</td>\n",
       "      <td>Bean, Weber and Matthews</td>\n",
       "      <td>6628</td>\n",
       "      <td>120.89</td>\n",
       "      <td>130.56</td>\n",
       "      <td>0.08</td>\n",
       "      <td>Restaurant insurance, Condominium insurance</td>\n",
       "      <td>GB43MSRB89213111743060</td>\n",
       "      <td>Insurance for buildings</td>\n",
       "    </tr>\n",
       "    <tr>\n",
       "      <th>2</th>\n",
       "      <td>2024-09-25 11:37:28.020215</td>\n",
       "      <td>Guerrero Inc</td>\n",
       "      <td>3003</td>\n",
       "      <td>296.73</td>\n",
       "      <td>320.47</td>\n",
       "      <td>0.08</td>\n",
       "      <td>Food and beverages, Hotel reservations</td>\n",
       "      <td>GB44VCKT24300238589802</td>\n",
       "      <td>Travel expenses</td>\n",
       "    </tr>\n",
       "    <tr>\n",
       "      <th>3</th>\n",
       "      <td>2024-09-28 11:37:28.020219</td>\n",
       "      <td>Johnson, Roberts and Mckee</td>\n",
       "      <td>6033</td>\n",
       "      <td>1011.08</td>\n",
       "      <td>1091.97</td>\n",
       "      <td>0.08</td>\n",
       "      <td>Technology leasing</td>\n",
       "      <td>GB70LFUB80090236388206</td>\n",
       "      <td>Leasing</td>\n",
       "    </tr>\n",
       "    <tr>\n",
       "      <th>4</th>\n",
       "      <td>2024-09-09 11:37:28.020223</td>\n",
       "      <td>Reese Inc</td>\n",
       "      <td>8877</td>\n",
       "      <td>626.43</td>\n",
       "      <td>676.54</td>\n",
       "      <td>0.08</td>\n",
       "      <td>Dental equipment leasing, IT hardware leasing,...</td>\n",
       "      <td>GB47IZKR10432089410123</td>\n",
       "      <td>Leasing</td>\n",
       "    </tr>\n",
       "  </tbody>\n",
       "</table>\n",
       "</div>"
      ],
      "text/plain": [
       "                Invoice date               Supplier name  Invoice number  \\\n",
       "0 2024-10-13 11:37:28.020195                    Cruz LLC            4748   \n",
       "1 2024-09-30 11:37:28.020210    Bean, Weber and Matthews            6628   \n",
       "2 2024-09-25 11:37:28.020215                Guerrero Inc            3003   \n",
       "3 2024-09-28 11:37:28.020219  Johnson, Roberts and Mckee            6033   \n",
       "4 2024-09-09 11:37:28.020223                   Reese Inc            8877   \n",
       "\n",
       "   Amount net  Amount gross  Tax rate  \\\n",
       "0      725.34        783.37      0.08   \n",
       "1      120.89        130.56      0.08   \n",
       "2      296.73        320.47      0.08   \n",
       "3     1011.08       1091.97      0.08   \n",
       "4      626.43        676.54      0.08   \n",
       "\n",
       "                                     Purchased items                    IBAN  \\\n",
       "0                          Visa fees, Flight tickets  GB62XPLQ45681913465736   \n",
       "1        Restaurant insurance, Condominium insurance  GB43MSRB89213111743060   \n",
       "2             Food and beverages, Hotel reservations  GB44VCKT24300238589802   \n",
       "3                                 Technology leasing  GB70LFUB80090236388206   \n",
       "4  Dental equipment leasing, IT hardware leasing,...  GB47IZKR10432089410123   \n",
       "\n",
       "                  Category  \n",
       "0          Travel expenses  \n",
       "1  Insurance for buildings  \n",
       "2          Travel expenses  \n",
       "3                  Leasing  \n",
       "4                  Leasing  "
      ]
     },
     "execution_count": 50,
     "metadata": {},
     "output_type": "execute_result"
    }
   ],
   "source": [
    "fake = Faker()\n",
    "\n",
    "categories = [\n",
    "    'Rent',\n",
    "    'Leasing',\n",
    "    'Heating',\n",
    "    'Gas, electricity, water',\n",
    "    'Cleaning',\n",
    "    'Maintenance of business premises',\n",
    "    'Insurance',\n",
    "    'Insurance for buildings',\n",
    "    'Vehicle costs (gas)',\n",
    "    'Travel expenses',\n",
    "    'Repairs',\n",
    "]\n",
    "\n",
    "purchased_items_dict = {\n",
    "    \"Rent\": [\n",
    "        \"Apartment rental\",\n",
    "        \"House rental\",\n",
    "        \"Room rental\",\n",
    "        \"Office space rental\",\n",
    "        \"Warehouse rental\",\n",
    "        \"Storage unit rental\",\n",
    "        \"Furniture rental\",\n",
    "        \"Equipment rental\",\n",
    "        \"Car rental\",\n",
    "        \"Bike rental\",\n",
    "        \"Short-term lease\",\n",
    "        \"Long-term lease\",\n",
    "        \"Furnished apartment\",\n",
    "        \"Unfurnished apartment\",\n",
    "        \"Shared accommodation\",\n",
    "        \"Serviced apartment\",\n",
    "        \"Luxury apartment\",\n",
    "        \"Budget-friendly option\",\n",
    "        \"Pet-friendly rental\",\n",
    "        \"Disability access\",\n",
    "        \"Secure parking\",\n",
    "        \"Gym membership\",\n",
    "        \"Pool facilities\",\n",
    "        \"Community garden\",\n",
    "        \"On-site laundry\",\n",
    "        \"Package delivery\"\n",
    "    ],\n",
    "    \"Leasing\": [\n",
    "        \"Car leasing\",\n",
    "        \"Equipment leasing\",\n",
    "        \"Property leasing\",\n",
    "        \"Warehouse leasing\",\n",
    "        \"Office space leasing\",\n",
    "        \"Retail store leasing\",\n",
    "        \"Restaurant leasing\",\n",
    "        \"Cafe leasing\",\n",
    "        \"Event venue leasing\",\n",
    "        \"Storage unit leasing\",\n",
    "        \"Furniture leasing\",\n",
    "        \"Technology leasing\",\n",
    "        \"Heavy machinery leasing\",\n",
    "        \"Construction equipment leasing\",\n",
    "        \"Agricultural equipment leasing\",\n",
    "        \"Medical equipment leasing\",\n",
    "        \"Dental equipment leasing\",\n",
    "        \"Laboratory equipment leasing\",\n",
    "        \"IT hardware leasing\",\n",
    "        \"Software licensing\",\n",
    "        \"Cloud computing services\"\n",
    "    ],\n",
    "    \"Heating\": [\n",
    "        \"Central heating system\",\n",
    "        \"Gas boiler\",\n",
    "        \"Electric radiator\",\n",
    "        \"Oil-fired boiler\",\n",
    "        \"Solar water heater\",\n",
    "        \"Heat pump\",\n",
    "        \"Wood-burning stove\",\n",
    "        \"Pellet stove\",\n",
    "        \"Propane heater\",\n",
    "        \"Kerosene heater\",\n",
    "        \"Space heater\",\n",
    "        \"Baseboard heating\",\n",
    "        \"Radiant floor heating\",\n",
    "        \"Hot water heating system\",\n",
    "        \"Steam radiator\",\n",
    "        \"Hydronic heating system\",\n",
    "        \"Infrared heating\",\n",
    "        \"Convection heating\"\n",
    "    ],\n",
    "    \"Gas, electricity, water\": [\n",
    "        \"Natural gas supply\",\n",
    "        \"Electricity supply\",\n",
    "        \"Water supply\",\n",
    "        \"Gas meter installation\",\n",
    "        \"Electricity meter installation\",\n",
    "        \"Water meter installation\",\n",
    "        \"Utility bill management\",\n",
    "        \"Energy efficiency audit\",\n",
    "        \"Smart home energy monitoring\",\n",
    "        \"Renewable energy systems\",\n",
    "        \"Solar panel installation\",\n",
    "        \"Wind turbine installation\",\n",
    "        \"Geothermal heating system\",\n",
    "        \"Rainwater harvesting system\",\n",
    "        \"Gray water reuse system\"\n",
    "    ],\n",
    "    \"Cleaning\": [\n",
    "        \"Residential cleaning services\",\n",
    "        \"Commercial cleaning services\",\n",
    "        \"Industrial cleaning services\",\n",
    "        \"Carpet cleaning\",\n",
    "        \"Upholstery cleaning\",\n",
    "        \"Window cleaning\",\n",
    "        \"Gutter cleaning\",\n",
    "        \"Power washing\",\n",
    "        \"Janitorial supplies\",\n",
    "        \"Floor care products\",\n",
    "        \"Household cleaning products\",\n",
    "        \"Eco-friendly cleaning products\",\n",
    "        \"Disinfecting services\",\n",
    "        \"Sanitizing services\"\n",
    "    ],\n",
    "    \"Maintenance of business premises\": [\n",
    "        \"Facilities management\",\n",
    "        \"Building maintenance\",\n",
    "        \"Equipment maintenance\",\n",
    "        \"HVAC maintenance\",\n",
    "        \"Plumbing maintenance\",\n",
    "        \"Electrical maintenance\",\n",
    "        \"Pest control services\",\n",
    "        \"Landscaping services\",\n",
    "        \"Snow removal services\",\n",
    "        \"Fire suppression system maintenance\",\n",
    "        \"Security system maintenance\",\n",
    "        \"Access control system maintenance\"\n",
    "    ],\n",
    "    \"Insurance\": [\n",
    "        \"Life insurance\",\n",
    "        \"Health insurance\",\n",
    "        \"Disability insurance\",\n",
    "        \"Homeowners insurance\",\n",
    "        \"Auto insurance\",\n",
    "        \"Business insurance\",\n",
    "        \"Liability insurance\",\n",
    "        \"Workers' compensation insurance\",\n",
    "        \"Umbrella insurance\",\n",
    "        \"Cyber insurance\",\n",
    "        \"Flood insurance\",\n",
    "        \"Earthquake insurance\"\n",
    "    ],\n",
    "    \"Insurance for buildings\": [\n",
    "        \"Commercial property insurance\",\n",
    "        \"Residential property insurance\",\n",
    "        \"Condominium insurance\",\n",
    "        \"Townhouse insurance\",\n",
    "        \"Apartment building insurance\",\n",
    "        \"Office building insurance\",\n",
    "        \"Retail store insurance\",\n",
    "        \"Restaurant insurance\",\n",
    "        \"Hotel insurance\",\n",
    "        \"Vacant property insurance\"\n",
    "    ],\n",
    "    \"Vehicle costs (gas)\": [\n",
    "        \"Gasoline\",\n",
    "        \"Diesel fuel\",\n",
    "        \"Alternative fuels\",\n",
    "        \"Electric vehicle charging\",\n",
    "        \"Hybrid vehicle maintenance\",\n",
    "        \"Oil changes\",\n",
    "        \"Tire rotation\",\n",
    "        \"Brake pad replacement\",\n",
    "        \"Air filter replacement\",\n",
    "        \"Wiper blade replacement\"\n",
    "    ],\n",
    "    \"Travel expenses\": [\n",
    "        \"Flight tickets\",\n",
    "        \"Hotel reservations\",\n",
    "        \"Car rental fees\",\n",
    "        \"Gasoline\",\n",
    "        \"Food and beverages\",\n",
    "        \"Souvenirs\",\n",
    "        \"Tips and gratuities\",\n",
    "        \"Travel insurance\",\n",
    "        \"Passport fees\",\n",
    "        \"Visa fees\"\n",
    "    ],\n",
    "    \"Repairs\": [\n",
    "        \"Home repairs\",\n",
    "        \"Appliance repairs\",\n",
    "        \"Furniture repairs\",\n",
    "        \"Car repairs\",\n",
    "        \"Bike repairs\",\n",
    "        \"Electronics repairs\",\n",
    "        \"Plumbing repairs\",\n",
    "        \"HVAC repairs\",\n",
    "        \"Roofing repairs\",\n",
    "        \"Siding repairs\"\n",
    "    ]\n",
    "}\n",
    "\n",
    "country_codes = ['US', 'CA', 'MX', 'UK', 'FR', 'DE', 'IT']\n",
    "\n",
    "# words_per_category = 50\n",
    "# words_total_cnt = len(categories) * words_per_category\n",
    "# print(words_total_cnt)\n",
    "# words = fake.words(nb=words_total_cnt, unique=True)\n",
    "# purchased_items_dict = {c: [] for c in categories}\n",
    "# for i, c in enumerate(categories):\n",
    "#     purchased_items_dict[c] = words[i : (i + 1) * words_per_category]\n",
    "\n",
    "# print(purchased_items_dict)\n",
    "\n",
    "suppliers = {c: [] for c in categories}\n",
    "supplier_names = set()\n",
    "for c in suppliers:\n",
    "    while len(suppliers[c]) < 50:\n",
    "        supplier = fake.company()\n",
    "        if supplier not in supplier_names:\n",
    "            supplier_names.add(supplier)\n",
    "            suppliers[c].append({\n",
    "                'name': supplier,\n",
    "                'iban': fake.iban(),\n",
    "            })\n",
    "\n",
    "# print(suppliers)\n",
    "\n",
    "def generate_synthetic_data(num_fixtures):\n",
    "    data = []\n",
    "    for _ in range(num_fixtures):\n",
    "        category = choice(categories)\n",
    "        supplier = choice(suppliers[category])\n",
    "        # supplier_name = f'{category} Supplier {randint(1, 20)}'\n",
    "        invoice_number = randint(1000, 9999)\n",
    "        amount_net = round(randint(1, 100) * 10.99, 2)\n",
    "        amount_gross = round(amount_net * (1 + 0.08), 2)\n",
    "        tax_rate = 0.08\n",
    "        purchased_items = choices(purchased_items_dict[category], k=randint(1, 3))\n",
    "        # country_code = choice(country_codes)\n",
    "        # iban = f'IBAN {_}'\n",
    "\n",
    "        data.append({\n",
    "            'Invoice date': datetime.now() + timedelta(days=randint(-30, 30)),\n",
    "            'Supplier name': supplier['name'],\n",
    "            'Invoice number': invoice_number,\n",
    "            'Amount net': amount_net,\n",
    "            'Amount gross': amount_gross,\n",
    "            'Tax rate': tax_rate,\n",
    "            'Purchased items': ', '.join(purchased_items),\n",
    "            # 'Country code': country_code,\n",
    "            'IBAN': supplier['iban'],\n",
    "            'Category': category\n",
    "        })\n",
    "\n",
    "    return pd.DataFrame(data)\n",
    "\n",
    "df = generate_synthetic_data(100000)\n",
    "df.head()\n"
   ]
  },
  {
   "cell_type": "code",
   "execution_count": 51,
   "metadata": {},
   "outputs": [
    {
     "data": {
      "text/plain": [
       "Category\n",
       "Vehicle costs (gas)                 9204\n",
       "Cleaning                            9149\n",
       "Insurance                           9136\n",
       "Maintenance of business premises    9125\n",
       "Gas, electricity, water             9102\n",
       "Heating                             9102\n",
       "Rent                                9078\n",
       "Insurance for buildings             9072\n",
       "Travel expenses                     9060\n",
       "Leasing                             9022\n",
       "Repairs                             8950\n",
       "Name: count, dtype: int64"
      ]
     },
     "execution_count": 51,
     "metadata": {},
     "output_type": "execute_result"
    }
   ],
   "source": [
    "df['Category'].value_counts()"
   ]
  },
  {
   "cell_type": "code",
   "execution_count": 52,
   "metadata": {},
   "outputs": [
    {
     "name": "stdout",
     "output_type": "stream",
     "text": [
      "word2vec SN took: 0:00:00.378923\n",
      "Vectorize SN took: 0:00:00.746399\n",
      "word2vec PI took: 0:00:00.536733\n",
      "Vectorize PI took: 0:00:00.925646\n",
      "word2vec SnP took: 0:00:00.927960\n",
      "Vectorize SnP took: 0:00:01.179600\n"
     ]
    }
   ],
   "source": [
    "# Apply Label Encoding to Category\n",
    "le = LabelEncoder()\n",
    "df['category_le'] = le.fit_transform(df['Category'])\n",
    "\n",
    "# Define a function to compute the mean of word embeddings\n",
    "def create_word2vec_embedding(model: Word2Vec, doc):\n",
    "    return np.mean([model.wv[word] for word in nltk.RegexpTokenizer(r'\\w+').tokenize(doc) if word in model.wv], axis=0)\n",
    "\n",
    "# Tokenize the 'Supplier name' column\n",
    "tokenized_supplier_name = df['Supplier name'].apply(lambda x: nltk.RegexpTokenizer(r'\\w+').tokenize(x))\n",
    "# Fit a Word2Vec model to the tokenized data\n",
    "time_start = now()\n",
    "word2vec_model_sn = Word2Vec(tokenized_supplier_name.tolist(), vector_size=100, window=5, min_count=1)\n",
    "print(f'word2vec SN took: {now() - time_start}')\n",
    "\n",
    "time_start = now()\n",
    "df['supplier_name_we'] = [create_word2vec_embedding(word2vec_model_sn, doc) for doc in df['Supplier name']]\n",
    "print(f'Vectorize SN took: {now() - time_start}')\n",
    "\n",
    "# Tokenize the 'Purchased items' column\n",
    "tokenized_purchased_items = df['Purchased items'].apply(lambda x: nltk.RegexpTokenizer(r'\\w+').tokenize(x))\n",
    "# Fit a Word2Vec model to the tokenized data\n",
    "time_start = now()\n",
    "word2vec_model_pi = Word2Vec(tokenized_purchased_items.tolist(), vector_size=100, window=5, min_count=1)\n",
    "print(f'word2vec PI took: {now() - time_start}')\n",
    "\n",
    "time_start = now()\n",
    "df['purchased_items_we'] = [create_word2vec_embedding(word2vec_model_pi, doc) for doc in df['Purchased items']]\n",
    "print(f'Vectorize PI took: {now() - time_start}')\n",
    "\n",
    "# Tokenize the 'Supplier name' + 'Purchased items' column\n",
    "df['supplier_n_products'] = df['Supplier name'].astype(str) + '. ' + df['Purchased items'].astype(str)\n",
    "tokenized_snp = df['supplier_n_products'].apply(lambda x: nltk.RegexpTokenizer(r'\\w+').tokenize(x))\n",
    "# Fit a Word2Vec model to the tokenized data\n",
    "time_start = now()\n",
    "word2vec_model_snp = Word2Vec(tokenized_snp.tolist(), vector_size=100, window=5, min_count=1)\n",
    "print(f'word2vec SnP took: {now() - time_start}')\n",
    "\n",
    "time_start = now()\n",
    "df['supplier_n_products_we'] = [create_word2vec_embedding(word2vec_model_snp, doc) for doc in df['supplier_n_products']]\n",
    "print(f'Vectorize SnP took: {now() - time_start}')\n",
    "\n",
    "# time_start = now()\n",
    "# hasher = FeatureHasher(n_features=len(df['IBAN'].unique()), input_type='string')\n",
    "# df['iban_hash'] = hasher.fit_transform([[x] for x in df['IBAN'].values]).toarray()\n",
    "# print(f'IBAN hash took: {now() - time_start}')\n",
    "\n",
    "df['iban_hash'] = df['IBAN'].apply(lambda x: struct.unpack(\">I\", hashlib.md5(x.encode(\"utf-8\")).digest()[:4])[0])\n",
    "df['iban_encoded'] = LabelEncoder().fit_transform(df['IBAN'])\n",
    "# df['iban_hash'] = df['IBAN'].apply(lambda x: int(hashlib.md5(x.encode(\"utf-8\")).hexdigest(), 16))\n",
    "# df['iban_sc'] = StandardScaler().fit_transform(df[['iban_hash']])\n",
    "\n",
    "# Scaling\n",
    "# df['supplier_name_sc'] = StandardScaler().fit_transform(df['supplier_name_we'].apply(pd.Series)).tolist()\n",
    "# df['purchased_items_sc'] = StandardScaler().fit_transform(df['purchased_items_we'].apply(pd.Series)).tolist()\n"
   ]
  },
  {
   "cell_type": "code",
   "execution_count": 53,
   "metadata": {},
   "outputs": [
    {
     "name": "stdout",
     "output_type": "stream",
     "text": [
      "0    9\n",
      "1    4\n",
      "2    9\n",
      "3    5\n",
      "4    5\n",
      "Name: category_le, dtype: int64\n"
     ]
    }
   ],
   "source": [
    "y = df['category_le']\n",
    "print(y.head())\n",
    "\n",
    "X_train, X_test, y_train, y_test = train_test_split(df, y, test_size=0.2, stratify=y)\n",
    "\n",
    "# Combine the preprocessed features into a single dataframe\n",
    "\n",
    "# use scaled features\n",
    "# X_train_combined = pd.concat(\n",
    "#     [\n",
    "#         X_train['supplier_name_sc'].apply(func=pd.Series).add_prefix('supplier_'),\n",
    "#         X_train['purchased_items_sc'].apply(func=pd.Series).add_prefix('items_'),\n",
    "#         X_train['iban_sc'].apply(func=pd.Series).add_prefix('iban'),\n",
    "#     ],\n",
    "#     axis=1\n",
    "# )\n",
    "# X_test_combined = pd.concat(\n",
    "#     [\n",
    "#         X_test['supplier_name_sc'].apply(func=pd.Series).add_prefix('supplier_'),\n",
    "#         X_test['purchased_items_sc'].apply(func=pd.Series).add_prefix('items_'),\n",
    "#         X_test['iban_sc'].apply(func=pd.Series).add_prefix('iban'),\n",
    "#     ],\n",
    "#     axis=1\n",
    "# )\n",
    "\n",
    "# use \"raw\" features\n",
    "X_train_combined = pd.concat(\n",
    "    [\n",
    "        # X_train['supplier_name_we'].apply(func=pd.Series).add_prefix('supplier_'),\n",
    "        # X_train['purchased_items_we'].apply(func=pd.Series).add_prefix('items_'),\n",
    "        X_train['supplier_n_products_we'].apply(func=pd.Series).add_prefix('snp_'),\n",
    "        X_train[['iban_hash']],\n",
    "        X_train[['iban_encoded']],\n",
    "    ],\n",
    "    axis=1\n",
    ")\n",
    "X_test_combined = pd.concat(\n",
    "    [\n",
    "        # X_test['supplier_name_we'].apply(func=pd.Series).add_prefix('supplier_'),\n",
    "        # X_test['purchased_items_we'].apply(func=pd.Series).add_prefix('items_'),\n",
    "        X_test['supplier_n_products_we'].apply(func=pd.Series).add_prefix('snp_'),\n",
    "        X_test[['iban_hash']],\n",
    "        X_test[['iban_encoded']],\n",
    "    ],\n",
    "    axis=1\n",
    ")"
   ]
  },
  {
   "cell_type": "code",
   "execution_count": 54,
   "metadata": {},
   "outputs": [
    {
     "name": "stdout",
     "output_type": "stream",
     "text": [
      "<class 'pandas.core.frame.DataFrame'>\n",
      "Index: 20000 entries, 27062 to 83712\n",
      "Columns: 102 entries, snp_0 to iban_encoded\n",
      "dtypes: float32(100), int64(2)\n",
      "memory usage: 8.1 MB\n"
     ]
    }
   ],
   "source": [
    "X_test_combined.info()"
   ]
  },
  {
   "cell_type": "code",
   "execution_count": 55,
   "metadata": {},
   "outputs": [
    {
     "data": {
      "text/html": [
       "<div>\n",
       "<style scoped>\n",
       "    .dataframe tbody tr th:only-of-type {\n",
       "        vertical-align: middle;\n",
       "    }\n",
       "\n",
       "    .dataframe tbody tr th {\n",
       "        vertical-align: top;\n",
       "    }\n",
       "\n",
       "    .dataframe thead th {\n",
       "        text-align: right;\n",
       "    }\n",
       "</style>\n",
       "<table border=\"1\" class=\"dataframe\">\n",
       "  <thead>\n",
       "    <tr style=\"text-align: right;\">\n",
       "      <th></th>\n",
       "      <th>snp_0</th>\n",
       "      <th>snp_1</th>\n",
       "      <th>snp_2</th>\n",
       "      <th>snp_3</th>\n",
       "      <th>snp_4</th>\n",
       "      <th>snp_5</th>\n",
       "      <th>snp_6</th>\n",
       "      <th>snp_7</th>\n",
       "      <th>snp_8</th>\n",
       "      <th>snp_9</th>\n",
       "      <th>...</th>\n",
       "      <th>snp_92</th>\n",
       "      <th>snp_93</th>\n",
       "      <th>snp_94</th>\n",
       "      <th>snp_95</th>\n",
       "      <th>snp_96</th>\n",
       "      <th>snp_97</th>\n",
       "      <th>snp_98</th>\n",
       "      <th>snp_99</th>\n",
       "      <th>iban_hash</th>\n",
       "      <th>iban_encoded</th>\n",
       "    </tr>\n",
       "  </thead>\n",
       "  <tbody>\n",
       "    <tr>\n",
       "      <th>13097</th>\n",
       "      <td>-0.240127</td>\n",
       "      <td>-0.046954</td>\n",
       "      <td>-0.438248</td>\n",
       "      <td>0.555352</td>\n",
       "      <td>0.658506</td>\n",
       "      <td>-0.202319</td>\n",
       "      <td>0.860914</td>\n",
       "      <td>-0.103988</td>\n",
       "      <td>-0.874820</td>\n",
       "      <td>0.442907</td>\n",
       "      <td>...</td>\n",
       "      <td>0.137899</td>\n",
       "      <td>0.223023</td>\n",
       "      <td>-0.000527</td>\n",
       "      <td>0.601077</td>\n",
       "      <td>0.632692</td>\n",
       "      <td>0.680564</td>\n",
       "      <td>0.120571</td>\n",
       "      <td>0.674007</td>\n",
       "      <td>1738553787</td>\n",
       "      <td>410</td>\n",
       "    </tr>\n",
       "    <tr>\n",
       "      <th>76092</th>\n",
       "      <td>-0.002540</td>\n",
       "      <td>-0.189534</td>\n",
       "      <td>0.002851</td>\n",
       "      <td>0.819149</td>\n",
       "      <td>0.162116</td>\n",
       "      <td>-0.374698</td>\n",
       "      <td>0.330519</td>\n",
       "      <td>0.196661</td>\n",
       "      <td>0.800061</td>\n",
       "      <td>-0.168052</td>\n",
       "      <td>...</td>\n",
       "      <td>0.227126</td>\n",
       "      <td>-0.052132</td>\n",
       "      <td>0.035689</td>\n",
       "      <td>-0.424379</td>\n",
       "      <td>0.476837</td>\n",
       "      <td>0.397675</td>\n",
       "      <td>-0.363186</td>\n",
       "      <td>0.628481</td>\n",
       "      <td>4151498948</td>\n",
       "      <td>444</td>\n",
       "    </tr>\n",
       "    <tr>\n",
       "      <th>8400</th>\n",
       "      <td>-0.309533</td>\n",
       "      <td>0.917079</td>\n",
       "      <td>0.551382</td>\n",
       "      <td>-0.585731</td>\n",
       "      <td>-0.036926</td>\n",
       "      <td>0.563134</td>\n",
       "      <td>1.024451</td>\n",
       "      <td>-0.058604</td>\n",
       "      <td>0.021969</td>\n",
       "      <td>-0.866822</td>\n",
       "      <td>...</td>\n",
       "      <td>-1.214587</td>\n",
       "      <td>-0.468459</td>\n",
       "      <td>-0.225730</td>\n",
       "      <td>-0.278000</td>\n",
       "      <td>-0.498761</td>\n",
       "      <td>0.023302</td>\n",
       "      <td>1.289503</td>\n",
       "      <td>-0.626896</td>\n",
       "      <td>1511720471</td>\n",
       "      <td>100</td>\n",
       "    </tr>\n",
       "    <tr>\n",
       "      <th>97386</th>\n",
       "      <td>-0.663008</td>\n",
       "      <td>0.489270</td>\n",
       "      <td>0.695094</td>\n",
       "      <td>-0.313485</td>\n",
       "      <td>-0.335357</td>\n",
       "      <td>0.102783</td>\n",
       "      <td>0.728824</td>\n",
       "      <td>-0.120717</td>\n",
       "      <td>-0.539026</td>\n",
       "      <td>-0.092000</td>\n",
       "      <td>...</td>\n",
       "      <td>-1.665591</td>\n",
       "      <td>-0.651270</td>\n",
       "      <td>0.148975</td>\n",
       "      <td>-0.004350</td>\n",
       "      <td>-0.393557</td>\n",
       "      <td>-0.460946</td>\n",
       "      <td>0.686269</td>\n",
       "      <td>0.044159</td>\n",
       "      <td>3241461840</td>\n",
       "      <td>309</td>\n",
       "    </tr>\n",
       "    <tr>\n",
       "      <th>41891</th>\n",
       "      <td>0.008756</td>\n",
       "      <td>0.448668</td>\n",
       "      <td>-0.168333</td>\n",
       "      <td>-0.970807</td>\n",
       "      <td>0.453662</td>\n",
       "      <td>0.228898</td>\n",
       "      <td>0.530367</td>\n",
       "      <td>0.866678</td>\n",
       "      <td>-1.401129</td>\n",
       "      <td>0.108578</td>\n",
       "      <td>...</td>\n",
       "      <td>0.888559</td>\n",
       "      <td>-0.022242</td>\n",
       "      <td>0.405177</td>\n",
       "      <td>1.386555</td>\n",
       "      <td>0.195982</td>\n",
       "      <td>-0.677873</td>\n",
       "      <td>0.438686</td>\n",
       "      <td>-0.527357</td>\n",
       "      <td>2794781671</td>\n",
       "      <td>249</td>\n",
       "    </tr>\n",
       "  </tbody>\n",
       "</table>\n",
       "<p>5 rows × 102 columns</p>\n",
       "</div>"
      ],
      "text/plain": [
       "          snp_0     snp_1     snp_2     snp_3     snp_4     snp_5     snp_6  \\\n",
       "13097 -0.240127 -0.046954 -0.438248  0.555352  0.658506 -0.202319  0.860914   \n",
       "76092 -0.002540 -0.189534  0.002851  0.819149  0.162116 -0.374698  0.330519   \n",
       "8400  -0.309533  0.917079  0.551382 -0.585731 -0.036926  0.563134  1.024451   \n",
       "97386 -0.663008  0.489270  0.695094 -0.313485 -0.335357  0.102783  0.728824   \n",
       "41891  0.008756  0.448668 -0.168333 -0.970807  0.453662  0.228898  0.530367   \n",
       "\n",
       "          snp_7     snp_8     snp_9  ...    snp_92    snp_93    snp_94  \\\n",
       "13097 -0.103988 -0.874820  0.442907  ...  0.137899  0.223023 -0.000527   \n",
       "76092  0.196661  0.800061 -0.168052  ...  0.227126 -0.052132  0.035689   \n",
       "8400  -0.058604  0.021969 -0.866822  ... -1.214587 -0.468459 -0.225730   \n",
       "97386 -0.120717 -0.539026 -0.092000  ... -1.665591 -0.651270  0.148975   \n",
       "41891  0.866678 -1.401129  0.108578  ...  0.888559 -0.022242  0.405177   \n",
       "\n",
       "         snp_95    snp_96    snp_97    snp_98    snp_99   iban_hash  \\\n",
       "13097  0.601077  0.632692  0.680564  0.120571  0.674007  1738553787   \n",
       "76092 -0.424379  0.476837  0.397675 -0.363186  0.628481  4151498948   \n",
       "8400  -0.278000 -0.498761  0.023302  1.289503 -0.626896  1511720471   \n",
       "97386 -0.004350 -0.393557 -0.460946  0.686269  0.044159  3241461840   \n",
       "41891  1.386555  0.195982 -0.677873  0.438686 -0.527357  2794781671   \n",
       "\n",
       "       iban_encoded  \n",
       "13097           410  \n",
       "76092           444  \n",
       "8400            100  \n",
       "97386           309  \n",
       "41891           249  \n",
       "\n",
       "[5 rows x 102 columns]"
      ]
     },
     "execution_count": 55,
     "metadata": {},
     "output_type": "execute_result"
    }
   ],
   "source": [
    "X_train_combined.head()"
   ]
  },
  {
   "cell_type": "code",
   "execution_count": 56,
   "metadata": {},
   "outputs": [
    {
     "name": "stdout",
     "output_type": "stream",
     "text": [
      "UMAP(init='pca', n_components=3, n_jobs=1, verbose=1)\n",
      "Fri Sep 13 11:37:41 2024 Construct fuzzy simplicial set\n",
      "Fri Sep 13 11:37:41 2024 Finding Nearest Neighbors\n",
      "Fri Sep 13 11:37:41 2024 Building RP forest with 21 trees\n",
      "Fri Sep 13 11:37:42 2024 NN descent for 17 iterations\n",
      "\t 1  /  17\n",
      "\t 2  /  17\n",
      "\t 3  /  17\n",
      "\tStopping threshold met -- exiting after 3 iterations\n",
      "Fri Sep 13 11:37:46 2024 Finished Nearest Neighbor Search\n",
      "Fri Sep 13 11:37:46 2024 Construct embedding\n"
     ]
    },
    {
     "data": {
      "application/vnd.jupyter.widget-view+json": {
       "model_id": "d42f33a6a05f4abd9e88ba791a7e75f2",
       "version_major": 2,
       "version_minor": 0
      },
      "text/plain": [
       "Epochs completed:   0%|            0/200 [00:00]"
      ]
     },
     "metadata": {},
     "output_type": "display_data"
    },
    {
     "name": "stdout",
     "output_type": "stream",
     "text": [
      "\tcompleted  0  /  200 epochs\n",
      "\tcompleted  20  /  200 epochs\n",
      "\tcompleted  40  /  200 epochs\n",
      "\tcompleted  60  /  200 epochs\n",
      "\tcompleted  80  /  200 epochs\n",
      "\tcompleted  100  /  200 epochs\n",
      "\tcompleted  120  /  200 epochs\n",
      "\tcompleted  140  /  200 epochs\n",
      "\tcompleted  160  /  200 epochs\n",
      "\tcompleted  180  /  200 epochs\n",
      "Fri Sep 13 11:38:22 2024 Finished embedding\n",
      "doc2vec umap time: 0:00:44.471312\n"
     ]
    }
   ],
   "source": [
    "time_start = now()\n",
    "word2vec_umap_model = UMAP(n_components=3, verbose=1, init='pca', n_jobs=1)\n",
    "# df[['x_sn', 'y_sn', 'z_sn']] = word2vec_umap_model.fit_transform(df['supplier_name_we'].apply(func=pd.Series))\n",
    "# df[['x_pi', 'y_pi', 'z_pi']] = word2vec_umap_model.fit_transform(df['purchased_items_we'].apply(func=pd.Series))\n",
    "df[['x_snp', 'y_snp', 'z_snp']] = word2vec_umap_model.fit_transform(df['supplier_n_products_we'].apply(func=pd.Series))\n",
    "print(f'doc2vec umap time: {now() - time_start}')\n"
   ]
  },
  {
   "cell_type": "code",
   "execution_count": 57,
   "metadata": {},
   "outputs": [
    {
     "data": {
      "text/plain": [
       "<matplotlib.legend.Legend at 0x4355dcb00>"
      ]
     },
     "execution_count": 57,
     "metadata": {},
     "output_type": "execute_result"
    },
    {
     "data": {
      "image/png": "[encoded data removed]",
      "text/plain": [
       "<Figure size 1200x1000 with 1 Axes>"
      ]
     },
     "metadata": {},
     "output_type": "display_data"
    }
   ],
   "source": [
    "import seaborn as sns\n",
    "from mpl_toolkits.mplot3d import Axes3D\n",
    "from matplotlib.colors import ListedColormap\n",
    "\n",
    "fig = plt.figure(figsize=(12,10))\n",
    "ax = Axes3D(fig, auto_add_to_figure=False)\n",
    "fig.add_axes(ax)\n",
    "\n",
    "cmap = ListedColormap(sns.color_palette(\"bright\", 16).as_hex())\n",
    "sc = ax.scatter(df['x_snp'], df['y_snp'], df['z_snp'], s=40, c=df['category_le'], marker='o', cmap=cmap, alpha=1)\n",
    "plt.legend(*sc.legend_elements(), bbox_to_anchor=(1.05, 1), loc=2)\n"
   ]
  },
  {
   "cell_type": "code",
   "execution_count": 58,
   "metadata": {},
   "outputs": [
    {
     "name": "stdout",
     "output_type": "stream",
     "text": [
      "['and', 'LLC', 'Group', 'Ltd', 'PLC', 'Johnson', 'Sons', 'Inc', 'Brown', 'Jones', 'Smith', 'Williams', 'Davis', 'White', 'Taylor', 'Moore', 'Miller', 'Clark', 'Garcia', 'Wilson', 'Rodriguez', 'Edwards', 'Webb', 'Martin', 'Gomez', 'Sanchez', 'King', 'Anderson', 'Brooks', 'Lewis', 'Sullivan', 'Jackson', 'Young', 'Henderson', 'Martinez', 'Romero', 'Becker', 'Walker', 'Freeman', 'Evans', 'Long', 'Morgan', 'Foster', 'Roberts', 'Hill', 'Adams', 'Hall', 'Cruz', 'Bennett', 'Murphy', 'Ramirez', 'Griffin', 'Mckee', 'Nguyen', 'Russell', 'Gonzalez', 'Walsh', 'Gibson', 'Wright', 'Lopez', 'Harrison', 'Mitchell', 'Nelson', 'Newman', 'Green', 'Carter', 'Mccarthy', 'Watson', 'Thomas', 'Jenkins', 'Harris', 'Diaz', 'Hernandez', 'Navarro', 'Allen', 'Aguilar', 'Case', 'Dean', 'Hendricks', 'Joseph', 'Gonzales', 'Meyer', 'Ward', 'Cole', 'Gray', 'Woods', 'Wood', 'Fox', 'Morris', 'Owens', 'Ramos', 'Daniel', 'Kim', 'Steele', 'Reynolds', 'Frazier', 'Ray', 'Rivera', 'Craig', 'Baker', 'Aguirre', 'Robinson', 'Murray', 'Ross', 'Gutierrez', 'Byrd', 'Nichols', 'Dixon', 'Cooper', 'Reyes', 'Chavez', 'James', 'Torres', 'Castro', 'Weber', 'Espinoza', 'Holland', 'Fuller', 'Lee', 'Cobb', 'Neal', 'Coleman', 'Chapman', 'Gross', 'Guerrero', 'Palmer', 'Higgins', 'Kelly', 'Willis', 'Hughes', 'Summers', 'Bell', 'Cross', 'Berger', 'Kennedy', 'Hayes', 'Mendoza', 'Burton', 'Curry', 'Collins', 'Charles', 'Phillips', 'Vasquez', 'Walter', 'Shepard', 'Howard', 'Yang', 'Hawkins', 'Armstrong', 'House', 'Barnett', 'Hurley', 'Peterson', 'Bishop', 'Thompson', 'Daniels', 'Turner', 'Scott', 'Simpson', 'Butler', 'Cannon', 'Campos', 'Richardson', 'Ryan', 'Elliott', 'Hodges', 'Marshall', 'Pierce', 'Cabrera', 'Vargas', 'Welch', 'Parsons', 'Rivers', 'Boyd', 'Parker', 'Hanson', 'Hess', 'Avila', 'Powell', 'Chandler', 'Beck', 'Cervantes', 'Olson', 'Malone', 'Flores', 'Delacruz', 'Arnold', 'Stevens', 'Ortiz', 'Krause', 'Fisher', 'Carlson', 'Perez', 'Cox', 'Lyons', 'Hale', 'Robertson', 'Larsen', 'Moss', 'Lindsey', 'Goodwin', 'Ballard', 'Buck', 'Ortega', 'Shaffer', 'Lloyd', 'Benson', 'Burns', 'Leonard', 'Crane', 'Ingram', 'Price', 'Duncan', 'Barr', 'Barrett', 'Eaton', 'Maddox', 'Christensen', 'Cowan', 'Calhoun', 'Stone', 'Bailey', 'Duran', 'Cortez', 'Horton', 'Campbell', 'Hicks', 'Moody', 'Hodge', 'Fitzpatrick', 'Mcdonald', 'Day', 'Melendez', 'Dunn', 'Huang', 'Walton', 'Oconnor', 'Bowen', 'Oneal', 'Davidson', 'Carney', 'Foley', 'Mcdaniel', 'Barrera', 'Good', 'Perkins', 'Blankenship', 'Hardy', 'Oliver', 'Silva', 'Collier', 'Watkins', 'Finley', 'Levy', 'Holmes', 'Griffith', 'Meadows', 'Alexander', 'Estrada', 'Gillespie', 'Potter', 'Zavala', 'Riley', 'Schneider', 'Santiago', 'Sanders', 'Pittman', 'Wilcox', 'Owen', 'Peck', 'Lara', 'Ball', 'Vaughn', 'Mays', 'Peters', 'Rivas', 'Pugh', 'Mccarty', 'Murillo', 'Velazquez', 'Hurst', 'Riggs', 'Kidd', 'Banks', 'Vazquez', 'Orozco', 'Manning', 'Waters', 'Shields', 'Valencia', 'Lucas', 'Carroll', 'Callahan', 'Rice', 'Curtis', 'Ruiz', 'Park', 'Lin', 'Garrett', 'Fischer', 'Mills', 'Meyers', 'Henry', 'Fitzgerald', 'Lane', 'Landry', 'Conner', 'Reese', 'Patton', 'Carson', 'Santos', 'Knight', 'Abbott', 'Morton', 'Mason', 'Mcfarland', 'Mack', 'Hensley', 'Rogers', 'Randall', 'Velasquez', 'Padilla', 'Stein', 'Mcintyre', 'Ashley', 'Matthews', 'Bean', 'Stewart', 'Pearson', 'Sims', 'Mayer', 'Morse', 'Grant', 'Bernard', 'Combs', 'Mann', 'Davies', 'Camacho', 'Brady', 'Esparza', 'Pollard', 'Maldonado', 'Boyle', 'Hanna', 'Warren', 'Soto', 'Larson', 'Drake', 'Mejia', 'Goodman', 'Roberson', 'Crosby', 'Mcguire', 'Huffman', 'Waller', 'Parrish', 'Adkins', 'Williamson', 'Logan', 'Gardner', 'Weaver', 'Rios', 'Maxwell', 'Newton', 'Orr', 'Wells', 'Watts', 'Mueller', 'Benitez', 'Hunter', 'Stokes', 'Contreras', 'Schroeder', 'Greene', 'Pope', 'Stephens', 'Pennington', 'Houston', 'Gilbert', 'Snow', 'Nicholson', 'Fuentes', 'Crawford', 'Hartman', 'Pham', 'Pratt', 'Chung', 'Keith', 'Simmons', 'Lynn', 'Clarke', 'Mullen', 'Strickland', 'Wise', 'Ibarra', 'Hinton', 'Mata', 'Jensen', 'Serrano', 'Hamilton', 'Douglas', 'Whitaker', 'Wall', 'Graham', 'Chen', 'Cisneros', 'Moyer', 'Montoya', 'Schmidt', 'Norton', 'Harrell', 'Fritz', 'Powers', 'Odom', 'Ferguson', 'Luna', 'Webster', 'Salazar', 'Boone', 'Grimes', 'Payne', 'Gamble', 'Mccoy', 'Conrad', 'Patterson', 'Chang', 'Melton', 'Robles', 'David', 'Preston', 'Porter', 'Anthony', 'Lam', 'Maynard', 'Bullock', 'Mosley', 'Huber', 'Wheeler', 'Haney', 'Allison', 'Morrow', 'Cochran', 'Lowe', 'Trevino', 'Cardenas', 'Warner', 'Cantu', 'Black', 'Little', 'Fields', 'Paul', 'Huff', 'Kline', 'Dodson', 'Lamb', 'Brandt', 'Arellano', 'Carpenter', 'Davenport', 'West', 'Solomon', 'Rubio', 'Fletcher', 'Key', 'Mckenzie', 'Herman', 'Humphrey', 'Hancock', 'Mcdowell', 'Moreno', 'Wagner', 'Bowman', 'Spencer', 'Barajas', 'Rojas', 'Perry', 'Morrison', 'Wang', 'Sawyer', 'Chambers', 'Lambert', 'Schaefer', 'Mcclure', 'Shaw', 'Bates', 'Baldwin', 'Miles', 'Yoder', 'Nunez', 'Cook', 'Cummings', 'Obrien', 'Alvarado', 'Hansen', 'Weeks', 'Phelps', 'Sloan', 'Brock', 'Castaneda', 'Townsend', 'Davila', 'Burke', 'Farmer', 'Macias', 'Page', 'Dawson', 'Ho', 'Juarez', 'Mcconnell', 'Costa', 'Morales', 'Lawrence', 'Deleon', 'Wiley', 'Leblanc', 'Tanner', 'Arroyo', 'Rowland', 'Mathis', 'Garza', 'York', 'Spence', 'Hester', 'Ritter', 'Mcmahon', 'Sosa', 'Blanchard', 'Norman', 'Koch', 'Graves', 'Miranda', 'Bentley', 'Woodard', 'Hudson']\n",
      "['insurance', 'repairs', 'leasing', 'maintenance', 'services', 'cleaning', 'system', 'rental', 'heating', 'installation', 'replacement', 'property', 'fees', 'Car', 'equipment', 'heater', 'products', 'supply', 'Gasoline', 'and', 'vehicle', 'building', 'Hotel', 'meter', 'Office', 'Plumbing', 'water', 'Furniture', 'HVAC', 'Residential', 'control', 'Equipment', 'Commercial', 'Oil', 'Electric', 'friendly', 'apartment', 'store', 'Retail', 'management', 'Restaurant', 'Apartment', 'Electricity', 'Bike', 'Water', 'energy', 'Disability', 'Solar', 'Gas', 'radiator', 'boiler', 'stove', 'Tire', 'rotation', 'Townhouse', 'gratuities', 'Tips', 'Hybrid', 'pad', 'Brake', 'Travel', 'tickets', 'Flight', 'Souvenirs', 'Wiper', 'blade', 'Diesel', 'fuel', 'Vacant', 'Food', 'beverages', 'changes', 'charging', 'Visa', 'Siding', 'Roofing', 'Home', 'Appliance', 'filter', 'Air', 'fuels', 'Alternative', 'reservations', 'Electronics', 'Passport', 'Condominium', 'suppression', 'Fire', 'Life', 'Earthquake', 'Workers', 'compensation', 'Flood', 'Cyber', 'Business', 'Pest', 'space', 'Electrical', 'Snow', 'removal', 'Liability', 'Building', 'Access', 'Security', 'Facilities', 'Storage', 'unit', 'Landscaping', 'Umbrella', 'Health', 'Homeowners', 'Auto', 'Warehouse', 'lease', 'term', 'Eco', 'care', 'Floor', 'Gutter', 'washing', 'Power', 'Industrial', 'Janitorial', 'supplies', 'Window', 'Upholstery', 'Carpet', 'Household', 'Disinfecting', 'Sanitizing', 'Geothermal', 'panel', 'Rainwater', 'harvesting', 'gas', 'Natural', 'efficiency', 'Energy', 'audit', 'turbine', 'Wind', 'home', 'monitoring', 'Smart', 'Renewable', 'systems', 'Utility', 'bill', 'Gray', 'reuse', 'Radiant', 'floor', 'Kerosene', 'Hot', 'Hydronic', 'Space', 'Infrared', 'Convection', 'fired', 'Steam', 'Propane', 'Baseboard', 'burning', 'Wood', 'Heat', 'pump', 'Pellet', 'Central', 'Construction', 'Property', 'Cafe', 'computing', 'Cloud', 'Medical', 'Dental', 'venue', 'Event', 'hardware', 'IT', 'Software', 'licensing', 'Agricultural', 'Heavy', 'machinery', 'Technology', 'Laboratory', 'access', 'facilities', 'Pool', 'Community', 'garden', 'Long', 'parking', 'Secure', 'Room', 'laundry', 'On', 'site', 'Pet', 'Serviced', 'House', 'option', 'Budget', 'Short', 'Unfurnished', 'Furnished', 'Shared', 'accommodation', 'Gym', 'membership', 'Luxury', 'Package', 'delivery']\n"
     ]
    }
   ],
   "source": [
    "print(list(word2vec_model_sn.wv.index_to_key))\n",
    "print(list(word2vec_model_pi.wv.index_to_key))"
   ]
  },
  {
   "cell_type": "code",
   "execution_count": 59,
   "metadata": {},
   "outputs": [
    {
     "name": "stdout",
     "output_type": "stream",
     "text": [
      "Start training: 2024-09-13T11:38:24.572336+02:00\n",
      "Training took: 0:00:43.785408\n",
      "Start evaluation: 2024-09-13T11:39:08.357993+02:00\n",
      "Evaluation took: 0:00:00.090121\n",
      "Model Accuracy: 1.000\n"
     ]
    }
   ],
   "source": [
    "# Train a Random Forest model using the preprocessed data\n",
    "time_start = now()\n",
    "print(f\"Start training: {time_start}\")\n",
    "rf_model = RandomForestClassifier()\n",
    "rf_model.fit(X_train_combined, y_train)\n",
    "print(f\"Training took: {now() - time_start}\")\n",
    "\n",
    "# Evaluate the model on the test set\n",
    "time_start = now()\n",
    "print(f\"Start evaluation: {time_start}\")\n",
    "y_pred = rf_model.predict(X_test_combined)\n",
    "score = f1_score(y_true=y_test, y_pred=y_pred, average='macro')\n",
    "print(f\"Evaluation took: {now() - time_start}\")\n",
    "print(f\"Model Accuracy: {score:.3f}\")"
   ]
  },
  {
   "cell_type": "code",
   "execution_count": 60,
   "metadata": {},
   "outputs": [
    {
     "data": {
      "application/vnd.plotly.v1+json": {
       "config": {
        "plotlyServerURL": "https://plot.ly"
       },
       "data": [
        {
         "alignmentgroup": "True",
         "hovertemplate": "Feature=%{x}<br>Importance Score=%{y}<extra></extra>",
         "legendgroup": "",
         "marker": {
          "color": "#636efa",
          "pattern": {
           "shape": ""
          }
         },
         "name": "",
         "offsetgroup": "",
         "orientation": "v",
         "showlegend": false,
         "textposition": "auto",
         "type": "bar",
         "x": [
          "snp_0",
          "snp_1",
          "snp_2",
          "snp_3",
          "snp_4",
          "snp_5",
          "snp_6",
          "snp_7",
          "snp_8",
          "snp_9",
          "snp_10",
          "snp_11",
          "snp_12",
          "snp_13",
          "snp_14",
          "snp_15",
          "snp_16",
          "snp_17",
          "snp_18",
          "snp_19",
          "snp_20",
          "snp_21",
          "snp_22",
          "snp_23",
          "snp_24",
          "snp_25",
          "snp_26",
          "snp_27",
          "snp_28",
          "snp_29",
          "snp_30",
          "snp_31",
          "snp_32",
          "snp_33",
          "snp_34",
          "snp_35",
          "snp_36",
          "snp_37",
          "snp_38",
          "snp_39",
          "snp_40",
          "snp_41",
          "snp_42",
          "snp_43",
          "snp_44",
          "snp_45",
          "snp_46",
          "snp_47",
          "snp_48",
          "snp_49",
          "snp_50",
          "snp_51",
          "snp_52",
          "snp_53",
          "snp_54",
          "snp_55",
          "snp_56",
          "snp_57",
          "snp_58",
          "snp_59",
          "snp_60",
          "snp_61",
          "snp_62",
          "snp_63",
          "snp_64",
          "snp_65",
          "snp_66",
          "snp_67",
          "snp_68",
          "snp_69",
          "snp_70",
          "snp_71",
          "snp_72",
          "snp_73",
          "snp_74",
          "snp_75",
          "snp_76",
          "snp_77",
          "snp_78",
          "snp_79",
          "snp_80",
          "snp_81",
          "snp_82",
          "snp_83",
          "snp_84",
          "snp_85",
          "snp_86",
          "snp_87",
          "snp_88",
          "snp_89",
          "snp_90",
          "snp_91",
          "snp_92",
          "snp_93",
          "snp_94",
          "snp_95",
          "snp_96",
          "snp_97",
          "snp_98",
          "snp_99",
          "iban_hash",
          "iban_encoded"
         ],
         "xaxis": "x",
         "y": [
          0.01141593871416182,
          0.01303161353384883,
          0.005667653972573041,
          0.021577296688112046,
          0.013569985019972851,
          0.002071302616700036,
          0.0012065528787070549,
          0.004952607199406154,
          0.012473533938592303,
          0.018850658911011137,
          0.02295014482542252,
          0.013091133243424442,
          0.004509921858712925,
          0.008807249172733166,
          0.008923707542607314,
          0.004013204761440941,
          0.005827998481421234,
          0.005932685700308116,
          0.006590431604635032,
          0.014842122027954143,
          0.009750317785639206,
          0.010943606975707577,
          0.031300436564889636,
          0.011876026930342055,
          0.015260380735755329,
          0.0021571821181669295,
          0.024318994141436057,
          0.00289374529160765,
          0.002587130439920841,
          0.013747823333088414,
          0.006627133588722823,
          0.01309281435324526,
          0.010736136738435896,
          0.009584734699414506,
          0.013914324159925287,
          0.0034603188104724916,
          0.0041583237836647375,
          0.01535818630916559,
          0.02185643086244533,
          0.01049170904371088,
          0.008229792739707477,
          0.024267521583141424,
          0.012895799111024741,
          0.004881246861811035,
          0.021889773605925353,
          0.01615991047146615,
          0.004633663764072318,
          0.003981286959742482,
          0.008073046289641011,
          0.021226789016998145,
          0.017746719458107525,
          0.0025804531361411473,
          0.005793942212623705,
          0.007942206322211128,
          0.011547463479023976,
          0.010390063720085947,
          0.004883765187210058,
          0.0034177307124865076,
          0.0020861324134080666,
          0.0007285391577690085,
          0.013891366056459317,
          0.007882349411892135,
          0.0028596098215904887,
          0.00512999462622815,
          0.0019418633596914308,
          0.012640579790805538,
          0.01748928767118595,
          0.02009277286803537,
          0.0029596948977238494,
          0.013365617064673724,
          0.014528519210499323,
          0.007112037780547176,
          0.029422404317282637,
          0.026467529619704163,
          0.01737735063439328,
          0.0014564488189690867,
          0.0030054005284872267,
          0.006164913216466484,
          0.0005623661832809479,
          0.007883378908377106,
          0.006662424428902809,
          0.008946168419980504,
          0.0010346380220508577,
          0.008452351710803536,
          0.005645848586598623,
          0.0027783799027082186,
          0.010953553305617862,
          0.005606095952655252,
          0.005916707510501283,
          0.000680397291368665,
          0.013724575610111252,
          0.006741597979500614,
          0.00919522850989673,
          0.0029352118315868676,
          0.004341938759391062,
          0.0038321260830181465,
          0.027150922152857634,
          0.006606088100160341,
          0.004546310827865507,
          0.02378813815609591,
          0.00022828805202704732,
          0.0002221784599088821
         ],
         "yaxis": "y"
        }
       ],
       "layout": {
        "barmode": "relative",
        "legend": {
         "tracegroupgap": 0
        },
        "template": {
         "data": {
          "bar": [
           {
            "error_x": {
             "color": "#2a3f5f"
            },
            "error_y": {
             "color": "#2a3f5f"
            },
            "marker": {
             "line": {
              "color": "#E5ECF6",
              "width": 0.5
             },
             "pattern": {
              "fillmode": "overlay",
              "size": 10,
              "solidity": 0.2
             }
            },
            "type": "bar"
           }
          ],
          "barpolar": [
           {
            "marker": {
             "line": {
              "color": "#E5ECF6",
              "width": 0.5
             },
             "pattern": {
              "fillmode": "overlay",
              "size": 10,
              "solidity": 0.2
             }
            },
            "type": "barpolar"
           }
          ],
          "carpet": [
           {
            "aaxis": {
             "endlinecolor": "#2a3f5f",
             "gridcolor": "white",
             "linecolor": "white",
             "minorgridcolor": "white",
             "startlinecolor": "#2a3f5f"
            },
            "baxis": {
             "endlinecolor": "#2a3f5f",
             "gridcolor": "white",
             "linecolor": "white",
             "minorgridcolor": "white",
             "startlinecolor": "#2a3f5f"
            },
            "type": "carpet"
           }
          ],
          "choropleth": [
           {
            "colorbar": {
             "outlinewidth": 0,
             "ticks": ""
            },
            "type": "choropleth"
           }
          ],
          "contour": [
           {
            "colorbar": {
             "outlinewidth": 0,
             "ticks": ""
            },
            "colorscale": [
             [
              0,
              "#0d0887"
             ],
             [
              0.1111111111111111,
              "#46039f"
             ],
             [
              0.2222222222222222,
              "#7201a8"
             ],
             [
              0.3333333333333333,
              "#9c179e"
             ],
             [
              0.4444444444444444,
              "#bd3786"
             ],
             [
              0.5555555555555556,
              "#d8576b"
             ],
             [
              0.6666666666666666,
              "#ed7953"
             ],
             [
              0.7777777777777778,
              "#fb9f3a"
             ],
             [
              0.8888888888888888,
              "#fdca26"
             ],
             [
              1,
              "#f0f921"
             ]
            ],
            "type": "contour"
           }
          ],
          "contourcarpet": [
           {
            "colorbar": {
             "outlinewidth": 0,
             "ticks": ""
            },
            "type": "contourcarpet"
           }
          ],
          "heatmap": [
           {
            "colorbar": {
             "outlinewidth": 0,
             "ticks": ""
            },
            "colorscale": [
             [
              0,
              "#0d0887"
             ],
             [
              0.1111111111111111,
              "#46039f"
             ],
             [
              0.2222222222222222,
              "#7201a8"
             ],
             [
              0.3333333333333333,
              "#9c179e"
             ],
             [
              0.4444444444444444,
              "#bd3786"
             ],
             [
              0.5555555555555556,
              "#d8576b"
             ],
             [
              0.6666666666666666,
              "#ed7953"
             ],
             [
              0.7777777777777778,
              "#fb9f3a"
             ],
             [
              0.8888888888888888,
              "#fdca26"
             ],
             [
              1,
              "#f0f921"
             ]
            ],
            "type": "heatmap"
           }
          ],
          "heatmapgl": [
           {
            "colorbar": {
             "outlinewidth": 0,
             "ticks": ""
            },
            "colorscale": [
             [
              0,
              "#0d0887"
             ],
             [
              0.1111111111111111,
              "#46039f"
             ],
             [
              0.2222222222222222,
              "#7201a8"
             ],
             [
              0.3333333333333333,
              "#9c179e"
             ],
             [
              0.4444444444444444,
              "#bd3786"
             ],
             [
              0.5555555555555556,
              "#d8576b"
             ],
             [
              0.6666666666666666,
              "#ed7953"
             ],
             [
              0.7777777777777778,
              "#fb9f3a"
             ],
             [
              0.8888888888888888,
              "#fdca26"
             ],
             [
              1,
              "#f0f921"
             ]
            ],
            "type": "heatmapgl"
           }
          ],
          "histogram": [
           {
            "marker": {
             "pattern": {
              "fillmode": "overlay",
              "size": 10,
              "solidity": 0.2
             }
            },
            "type": "histogram"
           }
          ],
          "histogram2d": [
           {
            "colorbar": {
             "outlinewidth": 0,
             "ticks": ""
            },
            "colorscale": [
             [
              0,
              "#0d0887"
             ],
             [
              0.1111111111111111,
              "#46039f"
             ],
             [
              0.2222222222222222,
              "#7201a8"
             ],
             [
              0.3333333333333333,
              "#9c179e"
             ],
             [
              0.4444444444444444,
              "#bd3786"
             ],
             [
              0.5555555555555556,
              "#d8576b"
             ],
             [
              0.6666666666666666,
              "#ed7953"
             ],
             [
              0.7777777777777778,
              "#fb9f3a"
             ],
             [
              0.8888888888888888,
              "#fdca26"
             ],
             [
              1,
              "#f0f921"
             ]
            ],
            "type": "histogram2d"
           }
          ],
          "histogram2dcontour": [
           {
            "colorbar": {
             "outlinewidth": 0,
             "ticks": ""
            },
            "colorscale": [
             [
              0,
              "#0d0887"
             ],
             [
              0.1111111111111111,
              "#46039f"
             ],
             [
              0.2222222222222222,
              "#7201a8"
             ],
             [
              0.3333333333333333,
              "#9c179e"
             ],
             [
              0.4444444444444444,
              "#bd3786"
             ],
             [
              0.5555555555555556,
              "#d8576b"
             ],
             [
              0.6666666666666666,
              "#ed7953"
             ],
             [
              0.7777777777777778,
              "#fb9f3a"
             ],
             [
              0.8888888888888888,
              "#fdca26"
             ],
             [
              1,
              "#f0f921"
             ]
            ],
            "type": "histogram2dcontour"
           }
          ],
          "mesh3d": [
           {
            "colorbar": {
             "outlinewidth": 0,
             "ticks": ""
            },
            "type": "mesh3d"
           }
          ],
          "parcoords": [
           {
            "line": {
             "colorbar": {
              "outlinewidth": 0,
              "ticks": ""
             }
            },
            "type": "parcoords"
           }
          ],
          "pie": [
           {
            "automargin": true,
            "type": "pie"
           }
          ],
          "scatter": [
           {
            "fillpattern": {
             "fillmode": "overlay",
             "size": 10,
             "solidity": 0.2
            },
            "type": "scatter"
           }
          ],
          "scatter3d": [
           {
            "line": {
             "colorbar": {
              "outlinewidth": 0,
              "ticks": ""
             }
            },
            "marker": {
             "colorbar": {
              "outlinewidth": 0,
              "ticks": ""
             }
            },
            "type": "scatter3d"
           }
          ],
          "scattercarpet": [
           {
            "marker": {
             "colorbar": {
              "outlinewidth": 0,
              "ticks": ""
             }
            },
            "type": "scattercarpet"
           }
          ],
          "scattergeo": [
           {
            "marker": {
             "colorbar": {
              "outlinewidth": 0,
              "ticks": ""
             }
            },
            "type": "scattergeo"
           }
          ],
          "scattergl": [
           {
            "marker": {
             "colorbar": {
              "outlinewidth": 0,
              "ticks": ""
             }
            },
            "type": "scattergl"
           }
          ],
          "scattermapbox": [
           {
            "marker": {
             "colorbar": {
              "outlinewidth": 0,
              "ticks": ""
             }
            },
            "type": "scattermapbox"
           }
          ],
          "scatterpolar": [
           {
            "marker": {
             "colorbar": {
              "outlinewidth": 0,
              "ticks": ""
             }
            },
            "type": "scatterpolar"
           }
          ],
          "scatterpolargl": [
           {
            "marker": {
             "colorbar": {
              "outlinewidth": 0,
              "ticks": ""
             }
            },
            "type": "scatterpolargl"
           }
          ],
          "scatterternary": [
           {
            "marker": {
             "colorbar": {
              "outlinewidth": 0,
              "ticks": ""
             }
            },
            "type": "scatterternary"
           }
          ],
          "surface": [
           {
            "colorbar": {
             "outlinewidth": 0,
             "ticks": ""
            },
            "colorscale": [
             [
              0,
              "#0d0887"
             ],
             [
              0.1111111111111111,
              "#46039f"
             ],
             [
              0.2222222222222222,
              "#7201a8"
             ],
             [
              0.3333333333333333,
              "#9c179e"
             ],
             [
              0.4444444444444444,
              "#bd3786"
             ],
             [
              0.5555555555555556,
              "#d8576b"
             ],
             [
              0.6666666666666666,
              "#ed7953"
             ],
             [
              0.7777777777777778,
              "#fb9f3a"
             ],
             [
              0.8888888888888888,
              "#fdca26"
             ],
             [
              1,
              "#f0f921"
             ]
            ],
            "type": "surface"
           }
          ],
          "table": [
           {
            "cells": {
             "fill": {
              "color": "#EBF0F8"
             },
             "line": {
              "color": "white"
             }
            },
            "header": {
             "fill": {
              "color": "#C8D4E3"
             },
             "line": {
              "color": "white"
             }
            },
            "type": "table"
           }
          ]
         },
         "layout": {
          "annotationdefaults": {
           "arrowcolor": "#2a3f5f",
           "arrowhead": 0,
           "arrowwidth": 1
          },
          "autotypenumbers": "strict",
          "coloraxis": {
           "colorbar": {
            "outlinewidth": 0,
            "ticks": ""
           }
          },
          "colorscale": {
           "diverging": [
            [
             0,
             "#8e0152"
            ],
            [
             0.1,
             "#c51b7d"
            ],
            [
             0.2,
             "#de77ae"
            ],
            [
             0.3,
             "#f1b6da"
            ],
            [
             0.4,
             "#fde0ef"
            ],
            [
             0.5,
             "#f7f7f7"
            ],
            [
             0.6,
             "#e6f5d0"
            ],
            [
             0.7,
             "#b8e186"
            ],
            [
             0.8,
             "#7fbc41"
            ],
            [
             0.9,
             "#4d9221"
            ],
            [
             1,
             "#276419"
            ]
           ],
           "sequential": [
            [
             0,
             "#0d0887"
            ],
            [
             0.1111111111111111,
             "#46039f"
            ],
            [
             0.2222222222222222,
             "#7201a8"
            ],
            [
             0.3333333333333333,
             "#9c179e"
            ],
            [
             0.4444444444444444,
             "#bd3786"
            ],
            [
             0.5555555555555556,
             "#d8576b"
            ],
            [
             0.6666666666666666,
             "#ed7953"
            ],
            [
             0.7777777777777778,
             "#fb9f3a"
            ],
            [
             0.8888888888888888,
             "#fdca26"
            ],
            [
             1,
             "#f0f921"
            ]
           ],
           "sequentialminus": [
            [
             0,
             "#0d0887"
            ],
            [
             0.1111111111111111,
             "#46039f"
            ],
            [
             0.2222222222222222,
             "#7201a8"
            ],
            [
             0.3333333333333333,
             "#9c179e"
            ],
            [
             0.4444444444444444,
             "#bd3786"
            ],
            [
             0.5555555555555556,
             "#d8576b"
            ],
            [
             0.6666666666666666,
             "#ed7953"
            ],
            [
             0.7777777777777778,
             "#fb9f3a"
            ],
            [
             0.8888888888888888,
             "#fdca26"
            ],
            [
             1,
             "#f0f921"
            ]
           ]
          },
          "colorway": [
           "#636efa",
           "#EF553B",
           "#00cc96",
           "#ab63fa",
           "#FFA15A",
           "#19d3f3",
           "#FF6692",
           "#B6E880",
           "#FF97FF",
           "#FECB52"
          ],
          "font": {
           "color": "#2a3f5f"
          },
          "geo": {
           "bgcolor": "white",
           "lakecolor": "white",
           "landcolor": "#E5ECF6",
           "showlakes": true,
           "showland": true,
           "subunitcolor": "white"
          },
          "hoverlabel": {
           "align": "left"
          },
          "hovermode": "closest",
          "mapbox": {
           "style": "light"
          },
          "paper_bgcolor": "white",
          "plot_bgcolor": "#E5ECF6",
          "polar": {
           "angularaxis": {
            "gridcolor": "white",
            "linecolor": "white",
            "ticks": ""
           },
           "bgcolor": "#E5ECF6",
           "radialaxis": {
            "gridcolor": "white",
            "linecolor": "white",
            "ticks": ""
           }
          },
          "scene": {
           "xaxis": {
            "backgroundcolor": "#E5ECF6",
            "gridcolor": "white",
            "gridwidth": 2,
            "linecolor": "white",
            "showbackground": true,
            "ticks": "",
            "zerolinecolor": "white"
           },
           "yaxis": {
            "backgroundcolor": "#E5ECF6",
            "gridcolor": "white",
            "gridwidth": 2,
            "linecolor": "white",
            "showbackground": true,
            "ticks": "",
            "zerolinecolor": "white"
           },
           "zaxis": {
            "backgroundcolor": "#E5ECF6",
            "gridcolor": "white",
            "gridwidth": 2,
            "linecolor": "white",
            "showbackground": true,
            "ticks": "",
            "zerolinecolor": "white"
           }
          },
          "shapedefaults": {
           "line": {
            "color": "#2a3f5f"
           }
          },
          "ternary": {
           "aaxis": {
            "gridcolor": "white",
            "linecolor": "white",
            "ticks": ""
           },
           "baxis": {
            "gridcolor": "white",
            "linecolor": "white",
            "ticks": ""
           },
           "bgcolor": "#E5ECF6",
           "caxis": {
            "gridcolor": "white",
            "linecolor": "white",
            "ticks": ""
           }
          },
          "title": {
           "x": 0.05
          },
          "xaxis": {
           "automargin": true,
           "gridcolor": "white",
           "linecolor": "white",
           "ticks": "",
           "title": {
            "standoff": 15
           },
           "zerolinecolor": "white",
           "zerolinewidth": 2
          },
          "yaxis": {
           "automargin": true,
           "gridcolor": "white",
           "linecolor": "white",
           "ticks": "",
           "title": {
            "standoff": 15
           },
           "zerolinecolor": "white",
           "zerolinewidth": 2
          }
         }
        },
        "title": {
         "text": "Random Forest Feature Importances"
        },
        "xaxis": {
         "anchor": "y",
         "domain": [
          0,
          1
         ],
         "title": {
          "text": "Features"
         }
        },
        "yaxis": {
         "anchor": "x",
         "domain": [
          0,
          1
         ],
         "title": {
          "text": "Importance Score"
         }
        }
       }
      }
     },
     "metadata": {},
     "output_type": "display_data"
    }
   ],
   "source": [
    "# RF feature importance\n",
    "feature_importances = pd.DataFrame({\n",
    "    'Feature': X_test_combined.columns,\n",
    "    'Importance Score': rf_model.feature_importances_\n",
    "})\n",
    "fig = px.bar(feature_importances, x='Feature', y='Importance Score', title='Random Forest Feature Importances')\n",
    "fig.update_layout(xaxis_title='Features', yaxis_title='Importance Score')\n",
    "fig.show()"
   ]
  },
  {
   "cell_type": "code",
   "execution_count": 61,
   "metadata": {},
   "outputs": [
    {
     "name": "stdout",
     "output_type": "stream",
     "text": [
      "# XGBoost on 16 CPU Cores\n",
      "------------------------------\n",
      "Start training: 2024-09-13T11:39:08.537821+02:00\n",
      "Training took: 0:00:03.073522\n",
      "Start evaluation: 2024-09-13T11:39:11.611468+02:00\n",
      "Evaluation took: 0:00:00.024975\n",
      "Model F1-score (macro): 1.000\n",
      "\n",
      "# XGBoost on 2 CPU Cores\n",
      "------------------------------\n",
      "Start training: 2024-09-13T11:39:11.636843+02:00\n",
      "Training took: 0:00:07.056452\n",
      "Start evaluation: 2024-09-13T11:39:18.693430+02:00\n",
      "Evaluation took: 0:00:00.063189\n",
      "Model F1-score (macro): 1.000\n",
      "\n",
      "# XGBoost on 1 CPU Cores\n",
      "------------------------------\n",
      "Start training: 2024-09-13T11:39:18.757121+02:00\n",
      "Training took: 0:00:13.748292\n",
      "Start evaluation: 2024-09-13T11:39:32.505554+02:00\n",
      "Evaluation took: 0:00:00.101333\n",
      "Model F1-score (macro): 1.000\n",
      "\n"
     ]
    }
   ],
   "source": [
    "# XGBoost on MAX CPU Cores\n",
    "\n",
    "for n in [16, 2, 1]:\n",
    "    print(f'# XGBoost on {n} CPU Cores')\n",
    "    print('-'*30)\n",
    "    bst = XGBClassifier(device='cpu', n_jobs=n)\n",
    "\n",
    "    time_start = now()\n",
    "    print(f\"Start training: {time_start}\")\n",
    "    bst.fit(X_train_combined.drop(columns=['iban_hash']), y_train)\n",
    "    print(f\"Training took: {now() - time_start}\")\n",
    "\n",
    "    time_start = now()\n",
    "    print(f\"Start evaluation: {time_start}\")\n",
    "    y_pred = bst.predict(X_test_combined.drop(columns=['iban_hash']))\n",
    "    score = f1_score(y_true=y_test, y_pred=y_pred, average='macro')\n",
    "    print(f\"Evaluation took: {now() - time_start}\")\n",
    "    print(f\"Model F1-score (macro): {score:.3f}\")\n",
    "    print()"
   ]
  },
  {
   "cell_type": "code",
   "execution_count": 62,
   "metadata": {},
   "outputs": [
    {
     "name": "stdout",
     "output_type": "stream",
     "text": [
      "[[1.7616703e-06 1.9483109e-06 1.7566608e-06 2.0240841e-06 3.0260640e-06\n",
      "  9.9998128e-01 2.5410159e-06 2.1720577e-06 2.0511413e-06 5.9030066e-07\n",
      "  8.7275737e-07]]\n"
     ]
    }
   ],
   "source": [
    "print(bst.predict_proba(X_test_combined.drop(columns=['iban_hash']).iloc[0].values.reshape(1, -1)))"
   ]
  },
  {
   "cell_type": "code",
   "execution_count": 63,
   "metadata": {},
   "outputs": [
    {
     "data": {
      "application/vnd.plotly.v1+json": {
       "config": {
        "plotlyServerURL": "https://plot.ly"
       },
       "data": [
        {
         "alignmentgroup": "True",
         "hovertemplate": "Feature=%{x}<br>Importance Score=%{y}<extra></extra>",
         "legendgroup": "",
         "marker": {
          "color": "#636efa",
          "pattern": {
           "shape": ""
          }
         },
         "name": "",
         "offsetgroup": "",
         "orientation": "v",
         "showlegend": false,
         "textposition": "auto",
         "type": "bar",
         "x": [
          "snp_0",
          "snp_1",
          "snp_2",
          "snp_3",
          "snp_4",
          "snp_5",
          "snp_6",
          "snp_7",
          "snp_8",
          "snp_9",
          "snp_10",
          "snp_11",
          "snp_12",
          "snp_13",
          "snp_14",
          "snp_15",
          "snp_16",
          "snp_17",
          "snp_18",
          "snp_19",
          "snp_20",
          "snp_21",
          "snp_22",
          "snp_23",
          "snp_24",
          "snp_25",
          "snp_26",
          "snp_27",
          "snp_28",
          "snp_29",
          "snp_30",
          "snp_31",
          "snp_32",
          "snp_33",
          "snp_34",
          "snp_35",
          "snp_36",
          "snp_37",
          "snp_38",
          "snp_39",
          "snp_40",
          "snp_41",
          "snp_42",
          "snp_43",
          "snp_44",
          "snp_45",
          "snp_46",
          "snp_47",
          "snp_48",
          "snp_49",
          "snp_50",
          "snp_51",
          "snp_52",
          "snp_53",
          "snp_54",
          "snp_55",
          "snp_56",
          "snp_57",
          "snp_58",
          "snp_59",
          "snp_60",
          "snp_61",
          "snp_62",
          "snp_63",
          "snp_64",
          "snp_65",
          "snp_66",
          "snp_67",
          "snp_68",
          "snp_69",
          "snp_70",
          "snp_71",
          "snp_72",
          "snp_73",
          "snp_74",
          "snp_75",
          "snp_76",
          "snp_77",
          "snp_78",
          "snp_79",
          "snp_80",
          "snp_81",
          "snp_82",
          "snp_83",
          "snp_84",
          "snp_85",
          "snp_86",
          "snp_87",
          "snp_88",
          "snp_89",
          "snp_90",
          "snp_91",
          "snp_92",
          "snp_93",
          "snp_94",
          "snp_95",
          "snp_96",
          "snp_97",
          "snp_98",
          "snp_99",
          "iban_encoded"
         ],
         "xaxis": "x",
         "y": [
          0.00024786065,
          0.0022953139,
          0.0015358521,
          0.0021925033,
          0.014472813,
          0.00036238463,
          0.0017980231,
          0.0040164674,
          0.00531011,
          0.0043653487,
          0.04360717,
          0.09000842,
          0.0007183157,
          0.0002826735,
          0.0012314845,
          0.00010572722,
          0.00047910758,
          0.0015276833,
          0.0035358453,
          0.00063752796,
          0.0032224907,
          0.0007005901,
          0.03864495,
          0.0033584519,
          0.0052541965,
          0.00011932347,
          0.0007173445,
          0.0003688762,
          0.0012410607,
          0.030599313,
          0.00034393228,
          0.0068128956,
          0.003015276,
          0.07456134,
          0.024380937,
          0.0017596787,
          0.00717518,
          0.0007749003,
          0.04406034,
          0.005963271,
          0.000055368466,
          0.0019003322,
          0.001411866,
          0.002223899,
          0.008592543,
          0.08047567,
          0.0036189768,
          0.046909273,
          0.00022272869,
          0.004192682,
          0.00039423438,
          0.00058762997,
          0.00011083609,
          0.009032209,
          0.012257361,
          0.0042821523,
          0.00074406504,
          0.006931766,
          0.0014636497,
          0.00043521123,
          0.0044488274,
          0.0046653296,
          0.014824226,
          0.0008446511,
          0.0003293546,
          0.00021927705,
          0.0033630538,
          0.0009898917,
          0.089273416,
          0.0008526763,
          0.0017553614,
          0.0019079456,
          0.001060756,
          0.079456784,
          0.011181937,
          0.0009460128,
          0.0002220616,
          0.0006285478,
          0.00037050497,
          0.0029281387,
          0.04765433,
          0.008544196,
          0.00006159438,
          0.00086913723,
          0.003015902,
          0.0011061389,
          0.0016665387,
          0.0013902272,
          0.00041858316,
          0.0025310002,
          0.0011682968,
          0.0022600722,
          0.0034713417,
          0.0027558564,
          0.0033606268,
          0.000903446,
          0.07458025,
          0.001726108,
          0.00032745858,
          0.004124375,
          0.00014822175
         ],
         "yaxis": "y"
        }
       ],
       "layout": {
        "barmode": "relative",
        "legend": {
         "tracegroupgap": 0
        },
        "template": {
         "data": {
          "bar": [
           {
            "error_x": {
             "color": "#2a3f5f"
            },
            "error_y": {
             "color": "#2a3f5f"
            },
            "marker": {
             "line": {
              "color": "#E5ECF6",
              "width": 0.5
             },
             "pattern": {
              "fillmode": "overlay",
              "size": 10,
              "solidity": 0.2
             }
            },
            "type": "bar"
           }
          ],
          "barpolar": [
           {
            "marker": {
             "line": {
              "color": "#E5ECF6",
              "width": 0.5
             },
             "pattern": {
              "fillmode": "overlay",
              "size": 10,
              "solidity": 0.2
             }
            },
            "type": "barpolar"
           }
          ],
          "carpet": [
           {
            "aaxis": {
             "endlinecolor": "#2a3f5f",
             "gridcolor": "white",
             "linecolor": "white",
             "minorgridcolor": "white",
             "startlinecolor": "#2a3f5f"
            },
            "baxis": {
             "endlinecolor": "#2a3f5f",
             "gridcolor": "white",
             "linecolor": "white",
             "minorgridcolor": "white",
             "startlinecolor": "#2a3f5f"
            },
            "type": "carpet"
           }
          ],
          "choropleth": [
           {
            "colorbar": {
             "outlinewidth": 0,
             "ticks": ""
            },
            "type": "choropleth"
           }
          ],
          "contour": [
           {
            "colorbar": {
             "outlinewidth": 0,
             "ticks": ""
            },
            "colorscale": [
             [
              0,
              "#0d0887"
             ],
             [
              0.1111111111111111,
              "#46039f"
             ],
             [
              0.2222222222222222,
              "#7201a8"
             ],
             [
              0.3333333333333333,
              "#9c179e"
             ],
             [
              0.4444444444444444,
              "#bd3786"
             ],
             [
              0.5555555555555556,
              "#d8576b"
             ],
             [
              0.6666666666666666,
              "#ed7953"
             ],
             [
              0.7777777777777778,
              "#fb9f3a"
             ],
             [
              0.8888888888888888,
              "#fdca26"
             ],
             [
              1,
              "#f0f921"
             ]
            ],
            "type": "contour"
           }
          ],
          "contourcarpet": [
           {
            "colorbar": {
             "outlinewidth": 0,
             "ticks": ""
            },
            "type": "contourcarpet"
           }
          ],
          "heatmap": [
           {
            "colorbar": {
             "outlinewidth": 0,
             "ticks": ""
            },
            "colorscale": [
             [
              0,
              "#0d0887"
             ],
             [
              0.1111111111111111,
              "#46039f"
             ],
             [
              0.2222222222222222,
              "#7201a8"
             ],
             [
              0.3333333333333333,
              "#9c179e"
             ],
             [
              0.4444444444444444,
              "#bd3786"
             ],
             [
              0.5555555555555556,
              "#d8576b"
             ],
             [
              0.6666666666666666,
              "#ed7953"
             ],
             [
              0.7777777777777778,
              "#fb9f3a"
             ],
             [
              0.8888888888888888,
              "#fdca26"
             ],
             [
              1,
              "#f0f921"
             ]
            ],
            "type": "heatmap"
           }
          ],
          "heatmapgl": [
           {
            "colorbar": {
             "outlinewidth": 0,
             "ticks": ""
            },
            "colorscale": [
             [
              0,
              "#0d0887"
             ],
             [
              0.1111111111111111,
              "#46039f"
             ],
             [
              0.2222222222222222,
              "#7201a8"
             ],
             [
              0.3333333333333333,
              "#9c179e"
             ],
             [
              0.4444444444444444,
              "#bd3786"
             ],
             [
              0.5555555555555556,
              "#d8576b"
             ],
             [
              0.6666666666666666,
              "#ed7953"
             ],
             [
              0.7777777777777778,
              "#fb9f3a"
             ],
             [
              0.8888888888888888,
              "#fdca26"
             ],
             [
              1,
              "#f0f921"
             ]
            ],
            "type": "heatmapgl"
           }
          ],
          "histogram": [
           {
            "marker": {
             "pattern": {
              "fillmode": "overlay",
              "size": 10,
              "solidity": 0.2
             }
            },
            "type": "histogram"
           }
          ],
          "histogram2d": [
           {
            "colorbar": {
             "outlinewidth": 0,
             "ticks": ""
            },
            "colorscale": [
             [
              0,
              "#0d0887"
             ],
             [
              0.1111111111111111,
              "#46039f"
             ],
             [
              0.2222222222222222,
              "#7201a8"
             ],
             [
              0.3333333333333333,
              "#9c179e"
             ],
             [
              0.4444444444444444,
              "#bd3786"
             ],
             [
              0.5555555555555556,
              "#d8576b"
             ],
             [
              0.6666666666666666,
              "#ed7953"
             ],
             [
              0.7777777777777778,
              "#fb9f3a"
             ],
             [
              0.8888888888888888,
              "#fdca26"
             ],
             [
              1,
              "#f0f921"
             ]
            ],
            "type": "histogram2d"
           }
          ],
          "histogram2dcontour": [
           {
            "colorbar": {
             "outlinewidth": 0,
             "ticks": ""
            },
            "colorscale": [
             [
              0,
              "#0d0887"
             ],
             [
              0.1111111111111111,
              "#46039f"
             ],
             [
              0.2222222222222222,
              "#7201a8"
             ],
             [
              0.3333333333333333,
              "#9c179e"
             ],
             [
              0.4444444444444444,
              "#bd3786"
             ],
             [
              0.5555555555555556,
              "#d8576b"
             ],
             [
              0.6666666666666666,
              "#ed7953"
             ],
             [
              0.7777777777777778,
              "#fb9f3a"
             ],
             [
              0.8888888888888888,
              "#fdca26"
             ],
             [
              1,
              "#f0f921"
             ]
            ],
            "type": "histogram2dcontour"
           }
          ],
          "mesh3d": [
           {
            "colorbar": {
             "outlinewidth": 0,
             "ticks": ""
            },
            "type": "mesh3d"
           }
          ],
          "parcoords": [
           {
            "line": {
             "colorbar": {
              "outlinewidth": 0,
              "ticks": ""
             }
            },
            "type": "parcoords"
           }
          ],
          "pie": [
           {
            "automargin": true,
            "type": "pie"
           }
          ],
          "scatter": [
           {
            "fillpattern": {
             "fillmode": "overlay",
             "size": 10,
             "solidity": 0.2
            },
            "type": "scatter"
           }
          ],
          "scatter3d": [
           {
            "line": {
             "colorbar": {
              "outlinewidth": 0,
              "ticks": ""
             }
            },
            "marker": {
             "colorbar": {
              "outlinewidth": 0,
              "ticks": ""
             }
            },
            "type": "scatter3d"
           }
          ],
          "scattercarpet": [
           {
            "marker": {
             "colorbar": {
              "outlinewidth": 0,
              "ticks": ""
             }
            },
            "type": "scattercarpet"
           }
          ],
          "scattergeo": [
           {
            "marker": {
             "colorbar": {
              "outlinewidth": 0,
              "ticks": ""
             }
            },
            "type": "scattergeo"
           }
          ],
          "scattergl": [
           {
            "marker": {
             "colorbar": {
              "outlinewidth": 0,
              "ticks": ""
             }
            },
            "type": "scattergl"
           }
          ],
          "scattermapbox": [
           {
            "marker": {
             "colorbar": {
              "outlinewidth": 0,
              "ticks": ""
             }
            },
            "type": "scattermapbox"
           }
          ],
          "scatterpolar": [
           {
            "marker": {
             "colorbar": {
              "outlinewidth": 0,
              "ticks": ""
             }
            },
            "type": "scatterpolar"
           }
          ],
          "scatterpolargl": [
           {
            "marker": {
             "colorbar": {
              "outlinewidth": 0,
              "ticks": ""
             }
            },
            "type": "scatterpolargl"
           }
          ],
          "scatterternary": [
           {
            "marker": {
             "colorbar": {
              "outlinewidth": 0,
              "ticks": ""
             }
            },
            "type": "scatterternary"
           }
          ],
          "surface": [
           {
            "colorbar": {
             "outlinewidth": 0,
             "ticks": ""
            },
            "colorscale": [
             [
              0,
              "#0d0887"
             ],
             [
              0.1111111111111111,
              "#46039f"
             ],
             [
              0.2222222222222222,
              "#7201a8"
             ],
             [
              0.3333333333333333,
              "#9c179e"
             ],
             [
              0.4444444444444444,
              "#bd3786"
             ],
             [
              0.5555555555555556,
              "#d8576b"
             ],
             [
              0.6666666666666666,
              "#ed7953"
             ],
             [
              0.7777777777777778,
              "#fb9f3a"
             ],
             [
              0.8888888888888888,
              "#fdca26"
             ],
             [
              1,
              "#f0f921"
             ]
            ],
            "type": "surface"
           }
          ],
          "table": [
           {
            "cells": {
             "fill": {
              "color": "#EBF0F8"
             },
             "line": {
              "color": "white"
             }
            },
            "header": {
             "fill": {
              "color": "#C8D4E3"
             },
             "line": {
              "color": "white"
             }
            },
            "type": "table"
           }
          ]
         },
         "layout": {
          "annotationdefaults": {
           "arrowcolor": "#2a3f5f",
           "arrowhead": 0,
           "arrowwidth": 1
          },
          "autotypenumbers": "strict",
          "coloraxis": {
           "colorbar": {
            "outlinewidth": 0,
            "ticks": ""
           }
          },
          "colorscale": {
           "diverging": [
            [
             0,
             "#8e0152"
            ],
            [
             0.1,
             "#c51b7d"
            ],
            [
             0.2,
             "#de77ae"
            ],
            [
             0.3,
             "#f1b6da"
            ],
            [
             0.4,
             "#fde0ef"
            ],
            [
             0.5,
             "#f7f7f7"
            ],
            [
             0.6,
             "#e6f5d0"
            ],
            [
             0.7,
             "#b8e186"
            ],
            [
             0.8,
             "#7fbc41"
            ],
            [
             0.9,
             "#4d9221"
            ],
            [
             1,
             "#276419"
            ]
           ],
           "sequential": [
            [
             0,
             "#0d0887"
            ],
            [
             0.1111111111111111,
             "#46039f"
            ],
            [
             0.2222222222222222,
             "#7201a8"
            ],
            [
             0.3333333333333333,
             "#9c179e"
            ],
            [
             0.4444444444444444,
             "#bd3786"
            ],
            [
             0.5555555555555556,
             "#d8576b"
            ],
            [
             0.6666666666666666,
             "#ed7953"
            ],
            [
             0.7777777777777778,
             "#fb9f3a"
            ],
            [
             0.8888888888888888,
             "#fdca26"
            ],
            [
             1,
             "#f0f921"
            ]
           ],
           "sequentialminus": [
            [
             0,
             "#0d0887"
            ],
            [
             0.1111111111111111,
             "#46039f"
            ],
            [
             0.2222222222222222,
             "#7201a8"
            ],
            [
             0.3333333333333333,
             "#9c179e"
            ],
            [
             0.4444444444444444,
             "#bd3786"
            ],
            [
             0.5555555555555556,
             "#d8576b"
            ],
            [
             0.6666666666666666,
             "#ed7953"
            ],
            [
             0.7777777777777778,
             "#fb9f3a"
            ],
            [
             0.8888888888888888,
             "#fdca26"
            ],
            [
             1,
             "#f0f921"
            ]
           ]
          },
          "colorway": [
           "#636efa",
           "#EF553B",
           "#00cc96",
           "#ab63fa",
           "#FFA15A",
           "#19d3f3",
           "#FF6692",
           "#B6E880",
           "#FF97FF",
           "#FECB52"
          ],
          "font": {
           "color": "#2a3f5f"
          },
          "geo": {
           "bgcolor": "white",
           "lakecolor": "white",
           "landcolor": "#E5ECF6",
           "showlakes": true,
           "showland": true,
           "subunitcolor": "white"
          },
          "hoverlabel": {
           "align": "left"
          },
          "hovermode": "closest",
          "mapbox": {
           "style": "light"
          },
          "paper_bgcolor": "white",
          "plot_bgcolor": "#E5ECF6",
          "polar": {
           "angularaxis": {
            "gridcolor": "white",
            "linecolor": "white",
            "ticks": ""
           },
           "bgcolor": "#E5ECF6",
           "radialaxis": {
            "gridcolor": "white",
            "linecolor": "white",
            "ticks": ""
           }
          },
          "scene": {
           "xaxis": {
            "backgroundcolor": "#E5ECF6",
            "gridcolor": "white",
            "gridwidth": 2,
            "linecolor": "white",
            "showbackground": true,
            "ticks": "",
            "zerolinecolor": "white"
           },
           "yaxis": {
            "backgroundcolor": "#E5ECF6",
            "gridcolor": "white",
            "gridwidth": 2,
            "linecolor": "white",
            "showbackground": true,
            "ticks": "",
            "zerolinecolor": "white"
           },
           "zaxis": {
            "backgroundcolor": "#E5ECF6",
            "gridcolor": "white",
            "gridwidth": 2,
            "linecolor": "white",
            "showbackground": true,
            "ticks": "",
            "zerolinecolor": "white"
           }
          },
          "shapedefaults": {
           "line": {
            "color": "#2a3f5f"
           }
          },
          "ternary": {
           "aaxis": {
            "gridcolor": "white",
            "linecolor": "white",
            "ticks": ""
           },
           "baxis": {
            "gridcolor": "white",
            "linecolor": "white",
            "ticks": ""
           },
           "bgcolor": "#E5ECF6",
           "caxis": {
            "gridcolor": "white",
            "linecolor": "white",
            "ticks": ""
           }
          },
          "title": {
           "x": 0.05
          },
          "xaxis": {
           "automargin": true,
           "gridcolor": "white",
           "linecolor": "white",
           "ticks": "",
           "title": {
            "standoff": 15
           },
           "zerolinecolor": "white",
           "zerolinewidth": 2
          },
          "yaxis": {
           "automargin": true,
           "gridcolor": "white",
           "linecolor": "white",
           "ticks": "",
           "title": {
            "standoff": 15
           },
           "zerolinecolor": "white",
           "zerolinewidth": 2
          }
         }
        },
        "title": {
         "text": "XGBoost Feature Importances"
        },
        "xaxis": {
         "anchor": "y",
         "domain": [
          0,
          1
         ],
         "title": {
          "text": "Features"
         }
        },
        "yaxis": {
         "anchor": "x",
         "domain": [
          0,
          1
         ],
         "title": {
          "text": "Importance Score"
         }
        }
       }
      }
     },
     "metadata": {},
     "output_type": "display_data"
    }
   ],
   "source": [
    "# XGBoost feature importance\n",
    "feature_importances = pd.DataFrame({\n",
    "    'Feature': X_test_combined.drop(columns=['iban_hash']).columns,\n",
    "    'Importance Score': bst.feature_importances_\n",
    "})\n",
    "fig = px.bar(feature_importances, x='Feature', y='Importance Score', title='XGBoost Feature Importances')\n",
    "fig.update_layout(xaxis_title='Features', yaxis_title='Importance Score')\n",
    "fig.show()"
   ]
  },
  {
   "cell_type": "code",
   "execution_count": 64,
   "metadata": {},
   "outputs": [
    {
     "name": "stdout",
     "output_type": "stream",
     "text": [
      "Start training: 2024-09-13T11:39:32.679283+02:00\n",
      "Training took: 0:00:00.036669\n",
      "Start evaluation: 2024-09-13T11:39:32.716169+02:00\n",
      "Evaluation took: 0:00:00.987289\n",
      "Model Accuracy: 1.000\n"
     ]
    }
   ],
   "source": [
    "# Train a KNN model\n",
    "time_start = now()\n",
    "print(f\"Start training: {time_start}\")\n",
    "knn_model = KNeighborsClassifier()\n",
    "knn_model.fit(X_train_combined, y_train)\n",
    "print(f\"Training took: {now() - time_start}\")\n",
    "\n",
    "# Evaluate the model\n",
    "time_start = now()\n",
    "print(f\"Start evaluation: {time_start}\")\n",
    "score = knn_model.score(X_test_combined, y_test)\n",
    "print(f\"Evaluation took: {now() - time_start}\")\n",
    "print(f\"Model Accuracy: {score:.3f}\")"
   ]
  },
  {
   "cell_type": "code",
   "execution_count": 65,
   "metadata": {},
   "outputs": [
    {
     "name": "stdout",
     "output_type": "stream",
     "text": [
      "Model size:\n",
      "RF: 9.28 Mb\n",
      "KNN: 62.87 Mb\n",
      "XGBoost: 1.02 Mb\n"
     ]
    }
   ],
   "source": [
    "print('Model size:')\n",
    "print(f'RF: {len(pickle.dumps(rf_model)) / (1024 ** 2):.2f} Mb')\n",
    "print(f'KNN: {len(pickle.dumps(knn_model)) / (1024 ** 2):.2f} Mb')\n",
    "print(f'XGBoost: {len(pickle.dumps(bst)) / (1024 ** 2):.2f} Mb')"
   ]
  }
 ],
 "metadata": {
  "kernelspec": {
   "display_name": "ai",
   "language": "python",
   "name": "python3"
  },
  "language_info": {
   "codemirror_mode": {
    "name": "ipython",
    "version": 3
   },
   "file_extension": ".py",
   "mimetype": "text/x-python",
   "name": "python",
   "nbconvert_exporter": "python",
   "pygments_lexer": "ipython3",
   "version": "3.12.3"
  }
 },
 "nbformat": 4,
 "nbformat_minor": 2
}
